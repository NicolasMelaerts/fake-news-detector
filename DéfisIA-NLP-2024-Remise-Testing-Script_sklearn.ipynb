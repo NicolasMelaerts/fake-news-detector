{
 "cells": [
  {
   "cell_type": "markdown",
   "metadata": {
    "id": "1aElr2Glq-yd"
   },
   "source": [
    "# Instructions\n",
    "\n",
    "Ce notebook ne doit contenir que votre script servant à utiliser vos modèles **entrainés** en les testant sur le dataset *fake-test.csv*. Nous devons pouvoir l'exécuter en cliquant sur *Exécution -> Tout exécuter*.\n",
    "\n",
    "Nous utiliserons ce script pour évaluer votre modèle sur nos propres données d'évaluation par la suite.\n"
   ]
  },
  {
   "cell_type": "markdown",
   "metadata": {},
   "source": [
    "# Importation des librairies"
   ]
  },
  {
   "cell_type": "code",
   "execution_count": 1,
   "metadata": {},
   "outputs": [],
   "source": [
    "import pandas as pd\n",
    "import joblib\n",
    "from sklearn.metrics import accuracy_score"
   ]
  },
  {
   "cell_type": "markdown",
   "metadata": {},
   "source": [
    "# Mettre le fichier sur lequel on veut faire le test"
   ]
  },
  {
   "cell_type": "code",
   "execution_count": 2,
   "metadata": {},
   "outputs": [],
   "source": [
    "test_file_path = 'fake_test.csv'\n",
    "\n",
    "ds_test = pd.read_csv(test_file_path, usecols=[1, 2], names=['data', 'label'], header=0)\n",
    "\n",
    "X_test = ds_test['data']\n",
    "y_test = ds_test['label']"
   ]
  },
  {
   "cell_type": "code",
   "execution_count": 3,
   "metadata": {},
   "outputs": [
    {
     "data": {
      "text/plain": [
       "486"
      ]
     },
     "execution_count": 3,
     "metadata": {},
     "output_type": "execute_result"
    }
   ],
   "source": [
    "len(X_test)"
   ]
  },
  {
   "cell_type": "markdown",
   "metadata": {},
   "source": [
    "# Chargement du modèle et du vectoriser et évaluation avec l'accuracy"
   ]
  },
  {
   "cell_type": "code",
   "execution_count": 4,
   "metadata": {
    "id": "Ur7U1zvIILgo"
   },
   "outputs": [
    {
     "name": "stderr",
     "output_type": "stream",
     "text": [
      "/Users/nicolasmelaerts/.pyenv/versions/3.10.1/lib/python3.10/site-packages/sklearn/feature_extraction/text.py:408: UserWarning: Your stop_words may be inconsistent with your preprocessing. Tokenizing the stop words generated tokens ['etaient', 'etais', 'etait', 'etant', 'etante', 'etantes', 'etants', 'ete', 'etee', 'etees', 'etes', 'etiez', 'etions', 'eumes', 'eutes', 'fumes', 'futes', 'meme'] not in stop_words.\n",
      "  warnings.warn(\n"
     ]
    },
    {
     "name": "stdout",
     "output_type": "stream",
     "text": [
      "L'accuracy du modèle sur les données de test est : 0.9383\n"
     ]
    }
   ],
   "source": [
    "# Charger le modèle et le vectorizer exportés\n",
    "loaded_model = joblib.load('best_model.pkl')\n",
    "loaded_vectorizer = joblib.load('best_vectorizer.pkl')\n",
    "\n",
    "# Transformer les données de test avec le vectorizer chargé\n",
    "X_test_vectorised = loaded_vectorizer.transform(X_test)\n",
    "\n",
    "# Faire des prédictions avec le modèle chargé\n",
    "y_pred_loaded = loaded_model.predict(X_test_vectorised)\n",
    "\n",
    "# Calculer l'accuracy\n",
    "accuracy = accuracy_score(y_test, y_pred_loaded)\n",
    "print(f\"L'accuracy du modèle sur les données de test est : {accuracy:.4f}\")\n"
   ]
  },
  {
   "cell_type": "code",
   "execution_count": null,
   "metadata": {},
   "outputs": [],
   "source": []
  },
  {
   "cell_type": "code",
   "execution_count": null,
   "metadata": {},
   "outputs": [],
   "source": []
  }
 ],
 "metadata": {
  "colab": {
   "provenance": []
  },
  "kernelspec": {
   "display_name": "3.10.1",
   "language": "python",
   "name": "python3"
  },
  "language_info": {
   "codemirror_mode": {
    "name": "ipython",
    "version": 3
   },
   "file_extension": ".py",
   "mimetype": "text/x-python",
   "name": "python",
   "nbconvert_exporter": "python",
   "pygments_lexer": "ipython3",
   "version": "3.10.1"
  }
 },
 "nbformat": 4,
 "nbformat_minor": 0
}
