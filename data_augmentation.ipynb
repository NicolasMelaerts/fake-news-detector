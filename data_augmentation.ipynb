{
  "cells": [
    {
      "cell_type": "markdown",
      "metadata": {},
      "source": [
        "# Installation des librairies"
      ]
    },
    {
      "cell_type": "code",
      "execution_count": 1,
      "metadata": {
        "colab": {
          "base_uri": "https://localhost:8080/"
        },
        "id": "bA3gUDzPoKCQ",
        "outputId": "88a35ac7-6e2f-4044-d62a-ec3805ac2652"
      },
      "outputs": [
        {
          "name": "stdout",
          "output_type": "stream",
          "text": [
            "Requirement already satisfied: pandas in /Users/nicolasmelaerts/.pyenv/versions/3.10.1/lib/python3.10/site-packages (2.2.2)\n",
            "Requirement already satisfied: googletrans==4.0.0-rc1 in /Users/nicolasmelaerts/.pyenv/versions/3.10.1/lib/python3.10/site-packages (4.0.0rc1)\n",
            "Requirement already satisfied: httpx==0.13.3 in /Users/nicolasmelaerts/.pyenv/versions/3.10.1/lib/python3.10/site-packages (from googletrans==4.0.0-rc1) (0.13.3)\n",
            "Requirement already satisfied: certifi in /Users/nicolasmelaerts/.pyenv/versions/3.10.1/lib/python3.10/site-packages (from httpx==0.13.3->googletrans==4.0.0-rc1) (2024.2.2)\n",
            "Requirement already satisfied: hstspreload in /Users/nicolasmelaerts/.pyenv/versions/3.10.1/lib/python3.10/site-packages (from httpx==0.13.3->googletrans==4.0.0-rc1) (2024.12.1)\n",
            "Requirement already satisfied: sniffio in /Users/nicolasmelaerts/.pyenv/versions/3.10.1/lib/python3.10/site-packages (from httpx==0.13.3->googletrans==4.0.0-rc1) (1.3.1)\n",
            "Requirement already satisfied: chardet==3.* in /Users/nicolasmelaerts/.pyenv/versions/3.10.1/lib/python3.10/site-packages (from httpx==0.13.3->googletrans==4.0.0-rc1) (3.0.4)\n",
            "Requirement already satisfied: idna==2.* in /Users/nicolasmelaerts/.pyenv/versions/3.10.1/lib/python3.10/site-packages (from httpx==0.13.3->googletrans==4.0.0-rc1) (2.10)\n",
            "Requirement already satisfied: rfc3986<2,>=1.3 in /Users/nicolasmelaerts/.pyenv/versions/3.10.1/lib/python3.10/site-packages (from httpx==0.13.3->googletrans==4.0.0-rc1) (1.5.0)\n",
            "Requirement already satisfied: httpcore==0.9.* in /Users/nicolasmelaerts/.pyenv/versions/3.10.1/lib/python3.10/site-packages (from httpx==0.13.3->googletrans==4.0.0-rc1) (0.9.1)\n",
            "Requirement already satisfied: h11<0.10,>=0.8 in /Users/nicolasmelaerts/.pyenv/versions/3.10.1/lib/python3.10/site-packages (from httpcore==0.9.*->httpx==0.13.3->googletrans==4.0.0-rc1) (0.9.0)\n",
            "Requirement already satisfied: h2==3.* in /Users/nicolasmelaerts/.pyenv/versions/3.10.1/lib/python3.10/site-packages (from httpcore==0.9.*->httpx==0.13.3->googletrans==4.0.0-rc1) (3.2.0)\n",
            "Requirement already satisfied: hyperframe<6,>=5.2.0 in /Users/nicolasmelaerts/.pyenv/versions/3.10.1/lib/python3.10/site-packages (from h2==3.*->httpcore==0.9.*->httpx==0.13.3->googletrans==4.0.0-rc1) (5.2.0)\n",
            "Requirement already satisfied: hpack<4,>=3.0 in /Users/nicolasmelaerts/.pyenv/versions/3.10.1/lib/python3.10/site-packages (from h2==3.*->httpcore==0.9.*->httpx==0.13.3->googletrans==4.0.0-rc1) (3.0.0)\n",
            "Requirement already satisfied: numpy>=1.22.4 in /Users/nicolasmelaerts/.pyenv/versions/3.10.1/lib/python3.10/site-packages (from pandas) (1.26.4)\n",
            "Requirement already satisfied: python-dateutil>=2.8.2 in /Users/nicolasmelaerts/.pyenv/versions/3.10.1/lib/python3.10/site-packages (from pandas) (2.9.0.post0)\n",
            "Requirement already satisfied: pytz>=2020.1 in /Users/nicolasmelaerts/.pyenv/versions/3.10.1/lib/python3.10/site-packages (from pandas) (2024.1)\n",
            "Requirement already satisfied: tzdata>=2022.7 in /Users/nicolasmelaerts/.pyenv/versions/3.10.1/lib/python3.10/site-packages (from pandas) (2024.1)\n",
            "Requirement already satisfied: six>=1.5 in /Users/nicolasmelaerts/.pyenv/versions/3.10.1/lib/python3.10/site-packages (from python-dateutil>=2.8.2->pandas) (1.16.0)\n",
            "Requirement already satisfied: datasets in /Users/nicolasmelaerts/.pyenv/versions/3.10.1/lib/python3.10/site-packages (3.2.0)\n",
            "Requirement already satisfied: filelock in /Users/nicolasmelaerts/.pyenv/versions/3.10.1/lib/python3.10/site-packages (from datasets) (3.16.1)\n",
            "Requirement already satisfied: numpy>=1.17 in /Users/nicolasmelaerts/.pyenv/versions/3.10.1/lib/python3.10/site-packages (from datasets) (1.26.4)\n",
            "Requirement already satisfied: pyarrow>=15.0.0 in /Users/nicolasmelaerts/.pyenv/versions/3.10.1/lib/python3.10/site-packages (from datasets) (18.1.0)\n",
            "Requirement already satisfied: dill<0.3.9,>=0.3.0 in /Users/nicolasmelaerts/.pyenv/versions/3.10.1/lib/python3.10/site-packages (from datasets) (0.3.8)\n",
            "Requirement already satisfied: pandas in /Users/nicolasmelaerts/.pyenv/versions/3.10.1/lib/python3.10/site-packages (from datasets) (2.2.2)\n",
            "Requirement already satisfied: requests>=2.32.2 in /Users/nicolasmelaerts/.pyenv/versions/3.10.1/lib/python3.10/site-packages (from datasets) (2.32.3)\n",
            "Requirement already satisfied: tqdm>=4.66.3 in /Users/nicolasmelaerts/.pyenv/versions/3.10.1/lib/python3.10/site-packages (from datasets) (4.67.0)\n",
            "Requirement already satisfied: xxhash in /Users/nicolasmelaerts/.pyenv/versions/3.10.1/lib/python3.10/site-packages (from datasets) (3.5.0)\n",
            "Requirement already satisfied: multiprocess<0.70.17 in /Users/nicolasmelaerts/.pyenv/versions/3.10.1/lib/python3.10/site-packages (from datasets) (0.70.16)\n",
            "Requirement already satisfied: fsspec<=2024.9.0,>=2023.1.0 in /Users/nicolasmelaerts/.pyenv/versions/3.10.1/lib/python3.10/site-packages (from fsspec[http]<=2024.9.0,>=2023.1.0->datasets) (2024.9.0)\n",
            "Requirement already satisfied: aiohttp in /Users/nicolasmelaerts/.pyenv/versions/3.10.1/lib/python3.10/site-packages (from datasets) (3.11.11)\n",
            "Requirement already satisfied: huggingface-hub>=0.23.0 in /Users/nicolasmelaerts/.pyenv/versions/3.10.1/lib/python3.10/site-packages (from datasets) (0.27.0)\n",
            "Requirement already satisfied: packaging in /Users/nicolasmelaerts/.pyenv/versions/3.10.1/lib/python3.10/site-packages (from datasets) (24.0)\n",
            "Requirement already satisfied: pyyaml>=5.1 in /Users/nicolasmelaerts/.pyenv/versions/3.10.1/lib/python3.10/site-packages (from datasets) (6.0.2)\n",
            "Requirement already satisfied: aiohappyeyeballs>=2.3.0 in /Users/nicolasmelaerts/.pyenv/versions/3.10.1/lib/python3.10/site-packages (from aiohttp->datasets) (2.4.4)\n",
            "Requirement already satisfied: aiosignal>=1.1.2 in /Users/nicolasmelaerts/.pyenv/versions/3.10.1/lib/python3.10/site-packages (from aiohttp->datasets) (1.3.2)\n",
            "Requirement already satisfied: async-timeout<6.0,>=4.0 in /Users/nicolasmelaerts/.pyenv/versions/3.10.1/lib/python3.10/site-packages (from aiohttp->datasets) (5.0.1)\n",
            "Requirement already satisfied: attrs>=17.3.0 in /Users/nicolasmelaerts/.pyenv/versions/3.10.1/lib/python3.10/site-packages (from aiohttp->datasets) (24.3.0)\n",
            "Requirement already satisfied: frozenlist>=1.1.1 in /Users/nicolasmelaerts/.pyenv/versions/3.10.1/lib/python3.10/site-packages (from aiohttp->datasets) (1.5.0)\n",
            "Requirement already satisfied: multidict<7.0,>=4.5 in /Users/nicolasmelaerts/.pyenv/versions/3.10.1/lib/python3.10/site-packages (from aiohttp->datasets) (6.1.0)\n",
            "Requirement already satisfied: propcache>=0.2.0 in /Users/nicolasmelaerts/.pyenv/versions/3.10.1/lib/python3.10/site-packages (from aiohttp->datasets) (0.2.1)\n",
            "Requirement already satisfied: yarl<2.0,>=1.17.0 in /Users/nicolasmelaerts/.pyenv/versions/3.10.1/lib/python3.10/site-packages (from aiohttp->datasets) (1.18.3)\n",
            "Requirement already satisfied: typing-extensions>=3.7.4.3 in /Users/nicolasmelaerts/.pyenv/versions/3.10.1/lib/python3.10/site-packages (from huggingface-hub>=0.23.0->datasets) (4.11.0)\n",
            "Requirement already satisfied: charset-normalizer<4,>=2 in /Users/nicolasmelaerts/.pyenv/versions/3.10.1/lib/python3.10/site-packages (from requests>=2.32.2->datasets) (3.3.2)\n",
            "Requirement already satisfied: idna<4,>=2.5 in /Users/nicolasmelaerts/.pyenv/versions/3.10.1/lib/python3.10/site-packages (from requests>=2.32.2->datasets) (2.10)\n",
            "Requirement already satisfied: urllib3<3,>=1.21.1 in /Users/nicolasmelaerts/.pyenv/versions/3.10.1/lib/python3.10/site-packages (from requests>=2.32.2->datasets) (2.2.1)\n",
            "Requirement already satisfied: certifi>=2017.4.17 in /Users/nicolasmelaerts/.pyenv/versions/3.10.1/lib/python3.10/site-packages (from requests>=2.32.2->datasets) (2024.2.2)\n",
            "Requirement already satisfied: python-dateutil>=2.8.2 in /Users/nicolasmelaerts/.pyenv/versions/3.10.1/lib/python3.10/site-packages (from pandas->datasets) (2.9.0.post0)\n",
            "Requirement already satisfied: pytz>=2020.1 in /Users/nicolasmelaerts/.pyenv/versions/3.10.1/lib/python3.10/site-packages (from pandas->datasets) (2024.1)\n",
            "Requirement already satisfied: tzdata>=2022.7 in /Users/nicolasmelaerts/.pyenv/versions/3.10.1/lib/python3.10/site-packages (from pandas->datasets) (2024.1)\n",
            "Requirement already satisfied: six>=1.5 in /Users/nicolasmelaerts/.pyenv/versions/3.10.1/lib/python3.10/site-packages (from python-dateutil>=2.8.2->pandas->datasets) (1.16.0)\n"
          ]
        }
      ],
      "source": [
        "!pip install pandas googletrans==4.0.0-rc1\n",
        "!pip install datasets"
      ]
    },
    {
      "cell_type": "markdown",
      "metadata": {},
      "source": [
        "# Importation des librairies"
      ]
    },
    {
      "cell_type": "code",
      "execution_count": 2,
      "metadata": {},
      "outputs": [
        {
          "name": "stderr",
          "output_type": "stream",
          "text": [
            "/Users/nicolasmelaerts/.pyenv/versions/3.10.1/lib/python3.10/site-packages/tqdm/auto.py:21: TqdmWarning: IProgress not found. Please update jupyter and ipywidgets. See https://ipywidgets.readthedocs.io/en/stable/user_install.html\n",
            "  from .autonotebook import tqdm as notebook_tqdm\n"
          ]
        }
      ],
      "source": [
        "import csv\n",
        "\n",
        "from datasets import load_dataset\n",
        "\n",
        "from googletrans import Translator\n",
        "\n",
        "import pandas as pd"
      ]
    },
    {
      "cell_type": "markdown",
      "metadata": {},
      "source": [
        "# Chargement d'un dataset de fake-news"
      ]
    },
    {
      "cell_type": "code",
      "execution_count": 3,
      "metadata": {},
      "outputs": [],
      "source": [
        "ds = load_dataset(\"AlexanderHolmes0/true-fake-news-v2\")"
      ]
    },
    {
      "cell_type": "markdown",
      "metadata": {},
      "source": [
        "# Initialisation d'un translator et fonction de traduction"
      ]
    },
    {
      "cell_type": "code",
      "execution_count": 4,
      "metadata": {
        "colab": {
          "base_uri": "https://localhost:8080/"
        },
        "id": "GemmJewoiZIM",
        "outputId": "beebbcd7-53e8-4c6d-a0e1-0bbeaa25e823"
      },
      "outputs": [],
      "source": [
        "# Initialiser le traducteur\n",
        "translator = Translator()\n",
        "\n",
        "# Fonction de traduction\n",
        "def translate(text):\n",
        "    try:\n",
        "        return translator.translate(text, src='en', dest='fr').text\n",
        "    except Exception as e:\n",
        "        # En cas d'erreur, on affiche le message d'erreur et on retourne None pour ne pas ajouter de texte\n",
        "        print(f\"Erreur de traduction : {e}\")\n",
        "        return None"
      ]
    },
    {
      "cell_type": "markdown",
      "metadata": {},
      "source": [
        "# Fonction pour continuer la truduction des news du dataset"
      ]
    },
    {
      "cell_type": "code",
      "execution_count": 5,
      "metadata": {
        "colab": {
          "base_uri": "https://localhost:8080/"
        },
        "id": "OMT75-ujm1el",
        "outputId": "ca1ceba3-41c0-4bf6-b427-1fb397e3bb05"
      },
      "outputs": [],
      "source": [
        "def continue_translation(output_filename, dataset_name, num_to_translate):\n",
        "    ds = load_dataset(dataset_name)['train']\n",
        "\n",
        "    # Vérifier le nombre de lignes déjà traduites\n",
        "    try:\n",
        "        with open(output_filename, mode='r', encoding='utf-8') as file:\n",
        "            reader = csv.DictReader(file)\n",
        "            existing_lines = list(reader)\n",
        "        translated_count = len(existing_lines)\n",
        "    except FileNotFoundError:\n",
        "        print(f\"Fichier {output_filename} non trouvé. Un nouveau fichier sera créé.\")\n",
        "        translated_count = 0\n",
        "\n",
        "    # Continuer la traduction\n",
        "    csv_data = []\n",
        "    for i in range(translated_count, min(translated_count + num_to_translate, len(ds))):\n",
        "        entry = ds[i]\n",
        "        data = translate(entry['text'])\n",
        "        if data:  # Vérifie que la traduction a réussi\n",
        "            label = entry['label']\n",
        "            csv_data.append({\n",
        "                'empty_column': '',\n",
        "                'data': data,\n",
        "                'label': 1 if label == 1 else 0\n",
        "            })\n",
        "\n",
        "    # Ajouter les news dans le fichier\n",
        "    with open(output_filename, mode='a', newline='', encoding='utf-8') as file:\n",
        "        writer = csv.DictWriter(file, fieldnames=['empty_column', 'data', 'label'])\n",
        "        if translated_count == 0:  # Écrire l'en-tête seulement si le fichier est nouveau\n",
        "            writer.writeheader()\n",
        "        writer.writerows(csv_data)\n",
        "\n",
        "    print(f\"Traduction ajoutée avec succès dans {output_filename}. Total de lignes : {translated_count + len(csv_data)}.\")"
      ]
    },
    {
      "cell_type": "markdown",
      "metadata": {},
      "source": [
        "# Fonction pour vérifier qu'il n'y a pas de case vide dans le fichier"
      ]
    },
    {
      "cell_type": "code",
      "execution_count": 6,
      "metadata": {
        "colab": {
          "base_uri": "https://localhost:8080/"
        },
        "id": "s1PlA0YfPiBC",
        "outputId": "6627e700-2907-4595-b48f-050c9c914e42"
      },
      "outputs": [],
      "source": [
        "def clean_csv(input_filename, output_filename):\n",
        "    cleaned_data = []\n",
        "    try:\n",
        "        with open(input_filename, mode='r', encoding='utf-8') as file:\n",
        "            reader = csv.DictReader(file)\n",
        "            for row in reader:\n",
        "                # Vérifier si les champs 'data' ou 'label' sont vides\n",
        "                if row['data'].strip() and row['label'].strip():\n",
        "                    cleaned_data.append(row)\n",
        "    except FileNotFoundError:\n",
        "        print(f\"Le fichier {input_filename} n'existe pas.\")\n",
        "        return\n",
        "\n",
        "    with open(output_filename, mode='w', newline='', encoding='utf-8') as file:\n",
        "        writer = csv.DictWriter(file, fieldnames=['empty_column', 'data', 'label'])\n",
        "        writer.writeheader()\n",
        "        writer.writerows(cleaned_data)\n",
        "\n",
        "    print(f\"Fichier nettoyé créé avec succès : {output_filename}\")"
      ]
    },
    {
      "cell_type": "markdown",
      "metadata": {},
      "source": [
        "# Fonction pour compter le nombre de news dans un fichier"
      ]
    },
    {
      "cell_type": "code",
      "execution_count": 7,
      "metadata": {
        "colab": {
          "base_uri": "https://localhost:8080/"
        },
        "id": "Phd8z9RiP3NK",
        "outputId": "d03d4fe5-b866-40a7-9554-e7814bfd4164"
      },
      "outputs": [],
      "source": [
        "def count_data_in_csv(filename):\n",
        "    try:\n",
        "        with open(filename, mode='r', encoding='utf-8') as file:\n",
        "            reader = csv.DictReader(file)\n",
        "            data_count = sum(1 for _ in reader)\n",
        "        print(f\"Nombre total de données dans le fichier {filename} : {data_count}\")\n",
        "        return data_count\n",
        "    except FileNotFoundError:\n",
        "        print(f\"Le fichier {filename} n'existe pas.\")\n",
        "        return 0"
      ]
    },
    {
      "cell_type": "code",
      "execution_count": 8,
      "metadata": {
        "colab": {
          "base_uri": "https://localhost:8080/"
        },
        "id": "Q03HZ3hDeY3w",
        "outputId": "f3091ee6-d8b5-4f7b-f1e1-802aa0bf11d1"
      },
      "outputs": [
        {
          "name": "stdout",
          "output_type": "stream",
          "text": [
            "Traduction ajoutée avec succès dans augmented.csv. Total de lignes : 10002.\n",
            "Fichier nettoyé créé avec succès : translated_news_cleaned.csv\n",
            "Nombre total de données dans le fichier translated_news_cleaned.csv : 10002\n"
          ]
        },
        {
          "data": {
            "text/plain": [
              "10002"
            ]
          },
          "execution_count": 8,
          "metadata": {},
          "output_type": "execute_result"
        }
      ],
      "source": [
        "continue_translation('augmented.csv', \"AlexanderHolmes0/true-fake-news-v2\", 1)\n",
        "clean_csv('augmented.csv', 'translated_news_cleaned.csv')\n",
        "count_data_in_csv('translated_news_cleaned.csv')"
      ]
    },
    {
      "cell_type": "markdown",
      "metadata": {},
      "source": [
        "# Fonction pour ajouter le dataset train fourni et encore augmenter les datas"
      ]
    },
    {
      "cell_type": "code",
      "execution_count": 9,
      "metadata": {
        "colab": {
          "base_uri": "https://localhost:8080/"
        },
        "id": "TyyyW6LkeZRV",
        "outputId": "51b0c145-1406-4d3a-89b8-ee4d266ef2f6"
      },
      "outputs": [
        {
          "name": "stdout",
          "output_type": "stream",
          "text": [
            "Les données ont été combinées et sauvegardées dans 'translated_news_cleaned_with_train.csv'.\n"
          ]
        }
      ],
      "source": [
        "# Charger les fichiers\n",
        "fake_train = pd.read_csv(\"fake_train.csv\")\n",
        "translated_news_cleaned = pd.read_csv(\"translated_news_cleaned.csv\")\n",
        "\n",
        "# Vérifier les doublons et ajouter uniquement les nouvelles lignes\n",
        "combined = pd.concat([translated_news_cleaned, fake_train]).drop_duplicates(subset=['data', 'label']).reset_index(drop=True)\n",
        "\n",
        "# Sauvegarder le fichier mis à jour\n",
        "combined.to_csv(\"translated_news_cleaned_with_train.csv\", index=False)\n",
        "\n",
        "print(f\"Les données ont été combinées et sauvegardées dans 'translated_news_cleaned_with_train.csv'.\")\n"
      ]
    },
    {
      "cell_type": "markdown",
      "metadata": {},
      "source": [
        "# Fonction pour compter le nombre de fake news et de true news dans un csv"
      ]
    },
    {
      "cell_type": "code",
      "execution_count": 10,
      "metadata": {
        "colab": {
          "base_uri": "https://localhost:8080/"
        },
        "id": "mF88FS11iUMB",
        "outputId": "07f0ea3d-4586-4880-87ec-032b8a3d3da2"
      },
      "outputs": [
        {
          "name": "stdout",
          "output_type": "stream",
          "text": [
            "Nombre de 0 dans la colonne 'label' : 5161\n",
            "Nombre de 1 dans la colonne 'label' : 5174\n"
          ]
        }
      ],
      "source": [
        "# Chemin vers votre fichier CSV\n",
        "file_path = 'translated_news_cleaned_with_train.csv'\n",
        "\n",
        "# Initialisation des compteurs pour 0 et 1\n",
        "count_0 = 0\n",
        "count_1 = 0\n",
        "\n",
        "# Ouverture et lecture du fichier CSV\n",
        "with open(file_path, mode='r', newline='', encoding='utf-8') as file:\n",
        "    reader = csv.DictReader(file)\n",
        "\n",
        "    # Parcours des lignes du fichier CSV\n",
        "    for row in reader:\n",
        "        # Vérifie la valeur de la colonne 'label' et incrémente le compteur correspondant\n",
        "        if row['label'] == '0':\n",
        "            count_0 += 1\n",
        "        elif row['label'] == '1':\n",
        "            count_1 += 1\n",
        "\n",
        "# Affichage des résultats\n",
        "print(f\"Nombre de 0 dans la colonne 'label' : {count_0}\")\n",
        "print(f\"Nombre de 1 dans la colonne 'label' : {count_1}\")\n"
      ]
    },
    {
      "cell_type": "code",
      "execution_count": null,
      "metadata": {},
      "outputs": [],
      "source": []
    }
  ],
  "metadata": {
    "colab": {
      "provenance": []
    },
    "kernelspec": {
      "display_name": "3.10.1",
      "language": "python",
      "name": "python3"
    },
    "language_info": {
      "codemirror_mode": {
        "name": "ipython",
        "version": 3
      },
      "file_extension": ".py",
      "mimetype": "text/x-python",
      "name": "python",
      "nbconvert_exporter": "python",
      "pygments_lexer": "ipython3",
      "version": "3.10.1"
    }
  },
  "nbformat": 4,
  "nbformat_minor": 0
}
